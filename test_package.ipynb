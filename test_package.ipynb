{
 "cells": [
  {
   "cell_type": "code",
   "execution_count": 1,
   "metadata": {},
   "outputs": [
    {
     "data": {
      "text/plain": [
       "['AROS-Reproducibility-MoA-Full', 'moa-repro']"
      ]
     },
     "execution_count": 1,
     "metadata": {},
     "output_type": "execute_result"
    }
   ],
   "source": [
    "from pharmbio.dataset import get_projects_list\n",
    "\n",
    "get_projects_list(lookup=\"moa\")"
   ]
  },
  {
   "cell_type": "code",
   "execution_count": 40,
   "metadata": {},
   "outputs": [
    {
     "name": "stdout",
     "output_type": "stream",
     "text": [
      "Quering the db for moa found 1 study: ['AROS-Reproducibility-MoA-Full']\n",
      "__________________________________________________\n",
      "1\n",
      "\tAROS-Reproducibility-MoA-Full\n",
      "\t['P013725', 'P013726', 'P013726']\n",
      "__________________________________________________\n",
      "Analysis for the plate with barcode P013726 is replicated 2 times with analysis_id of [3241, 3249]\n"
     ]
    }
   ],
   "source": [
    "# pharmbio equivalant\n",
    "\n",
    "from pharmbio.dataset import ExperimentData\n",
    "\n",
    "data = ExperimentData(name=\"moa\", keep_replication=[3241])"
   ]
  },
  {
   "cell_type": "code",
   "execution_count": 43,
   "metadata": {},
   "outputs": [
    {
     "data": {
      "text/html": [
       "<div><style>\n",
       ".dataframe > thead > tr > th,\n",
       ".dataframe > tbody > tr > td {\n",
       "  text-align: right;\n",
       "}\n",
       "</style>\n",
       "<small>shape: (1, 10)</small><table border=\"1\" class=\"dataframe\"><thead><tr><th>project</th><th>plate_barcode</th><th>plate_acq_name</th><th>plate_acq_id</th><th>analysis_id</th><th>analysis_date</th><th>analysis_error</th><th>meta</th><th>pipeline_name</th><th>results</th></tr><tr><td>str</td><td>str</td><td>str</td><td>i32</td><td>i32</td><td>str</td><td>str</td><td>str</td><td>str</td><td>str</td></tr></thead><tbody><tr><td>&quot;AROS-Reproduci…</td><td>&quot;P013726&quot;</td><td>&quot;P013726&quot;</td><td>3073</td><td>3241</td><td>&quot;2023-03-23&quot;</td><td>null</td><td>&quot;{&quot;priority&quot;:nu…</td><td>&quot;384-96_QC-batc…</td><td>&quot;/share/data/ce…</td></tr></tbody></table></div>"
      ],
      "text/plain": [
       "shape: (1, 10)\n",
       "┌─────────┬────────────┬────────────┬────────────┬───┬────────────┬─────────┬────────────┬─────────┐\n",
       "│ project ┆ plate_barc ┆ plate_acq_ ┆ plate_acq_ ┆ … ┆ analysis_e ┆ meta    ┆ pipeline_n ┆ results │\n",
       "│ ---     ┆ ode        ┆ name       ┆ id         ┆   ┆ rror       ┆ ---     ┆ ame        ┆ ---     │\n",
       "│ str     ┆ ---        ┆ ---        ┆ ---        ┆   ┆ ---        ┆ str     ┆ ---        ┆ str     │\n",
       "│         ┆ str        ┆ str        ┆ i32        ┆   ┆ str        ┆         ┆ str        ┆         │\n",
       "╞═════════╪════════════╪════════════╪════════════╪═══╪════════════╪═════════╪════════════╪═════════╡\n",
       "│ AROS-Re ┆ P013726    ┆ P013726    ┆ 3073       ┆ … ┆ null       ┆ {\"prior ┆ 384-96_QC- ┆ /share/ │\n",
       "│ produci ┆            ┆            ┆            ┆   ┆            ┆ ity\":nu ┆ batch3     ┆ data/ce │\n",
       "│ bility- ┆            ┆            ┆            ┆   ┆            ┆ ll,\"typ ┆            ┆ llprofi │\n",
       "│ MoA-Ful ┆            ┆            ┆            ┆   ┆            ┆ e\":\"cp- ┆            ┆ ler/aut │\n",
       "│ l       ┆            ┆            ┆            ┆   ┆            ┆ qc\"}    ┆            ┆ omat…   │\n",
       "└─────────┴────────────┴────────────┴────────────┴───┴────────────┴─────────┴────────────┴─────────┘"
      ]
     },
     "execution_count": 43,
     "metadata": {},
     "output_type": "execute_result"
    }
   ],
   "source": [
    "data.df_qc"
   ]
  }
 ],
 "metadata": {
  "kernelspec": {
   "display_name": ".venv",
   "language": "python",
   "name": "python3"
  },
  "language_info": {
   "codemirror_mode": {
    "name": "ipython",
    "version": 3
   },
   "file_extension": ".py",
   "mimetype": "text/x-python",
   "name": "python",
   "nbconvert_exporter": "python",
   "pygments_lexer": "ipython3",
   "version": "3.8.10"
  },
  "orig_nbformat": 4
 },
 "nbformat": 4,
 "nbformat_minor": 2
}
