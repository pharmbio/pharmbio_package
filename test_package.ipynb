{
 "cells": [
  {
   "cell_type": "code",
   "execution_count": 1,
   "metadata": {},
   "outputs": [
    {
     "data": {
      "text/plain": [
       "['Covid19-Profiling', 'sarscov2-repurposing']"
      ]
     },
     "execution_count": 1,
     "metadata": {},
     "output_type": "execute_result"
    }
   ],
   "source": [
    "from pharmbio.dataset import get_projects_list, get_qc_data, get_qc_info\n",
    "from pharmbio import dataset\n",
    "\n",
    "get_projects_list(lookup=\"cov\")"
   ]
  },
  {
   "cell_type": "code",
   "execution_count": 2,
   "metadata": {},
   "outputs": [
    {
     "name": "stdout",
     "output_type": "stream",
     "text": [
      "Quering the db for sarscov2-repurposing found 1 study: ['sarscov2-repurposing']\n",
      "__________________________________________________\n",
      "1\n",
      "\tsarscov2-repurposing\n",
      "\t['001_A', '001_B', '002_A', '002_B', '003_A', '003_B', '004_A', '004_B', '005_A', '005_B', '006_A', '006_B', '007_A', '007_B', '008_A', '008_B', '009_A', '009_B', '010_A', '010_B', '011_A', '011_B', '012_A', '012_B', '013_A', '013_B', '014_A', '014_B', '015_A', '015_B', '016_A', '016_B', 'P102337-VeroE6', 'P102338-A549', 'P102339-VeroE6', 'P102340-A549', 'P102341-VeroE6', 'P102342-A549', 'P102398-VeroE6', 'P102399-A549', 'PE000049-veroE6-sarscov2', 'PE000050-veroE6-sarscov2', 'PE000051-veroE6-sarscov2', 'PE000052-veroE6-sarscov2', 'PE000053-veroE6', 'SS-QC1']\n",
      "__________________________________________________\n",
      "No replicated analysis has been found!\n",
      "\n",
      "\n",
      "Successfully imported (1536, 588): /share/data/cellprofiler/automation/results/PE000049-veroE6-sarscov2/1005/348/qcRAW_images_PE000049-veroE6-sarscov2.csv\n",
      "Successfully imported (1536, 588): /share/data/cellprofiler/automation/results/PE000050-veroE6-sarscov2/1006/349/qcRAW_images_PE000050-veroE6-sarscov2.csv\n",
      "Successfully imported (1536, 588): /share/data/cellprofiler/automation/results/PE000053-veroE6/1008/350/qcRAW_images_PE000053-veroE6.csv\n",
      "Successfully imported (1536, 588): /share/data/cellprofiler/automation/results/PE000051-veroE6-sarscov2/1009/351/qcRAW_images_PE000051-veroE6-sarscov2.csv\n",
      "Successfully imported (1536, 588): /share/data/cellprofiler/automation/results/PE000052-veroE6-sarscov2/1012/352/qcRAW_images_PE000052-veroE6-sarscov2.csv\n",
      "\n",
      "__________________________________________________\n",
      "Quality control data of 5 plates imported!\n",
      "\n"
     ]
    }
   ],
   "source": [
    "# pharmbio equivalant\n",
    "from pharmbio.dataset import ExperimentData\n",
    "\n",
    "sarscov2 = ExperimentData(name=\"sarscov2-repurposing\", filter={'plate_barcode': ['PE']})"
   ]
  },
  {
   "cell_type": "code",
   "execution_count": 3,
   "metadata": {},
   "outputs": [
    {
     "data": {
      "text/plain": [
       "['Correlation',\n",
       " 'FocusScore',\n",
       " 'LocalFocusScore',\n",
       " 'MADIntensity',\n",
       " 'MaxIntensity',\n",
       " 'MeanIntensity',\n",
       " 'MedianIntensity',\n",
       " 'MinIntensity',\n",
       " 'PercentMaximal',\n",
       " 'PercentMinimal',\n",
       " 'PowerLogLogSlope',\n",
       " 'Scaling',\n",
       " 'StdIntensity',\n",
       " 'ThresholdBackground',\n",
       " 'ThresholdKapur',\n",
       " 'ThresholdMCT',\n",
       " 'ThresholdMoG',\n",
       " 'ThresholdOtsu',\n",
       " 'ThresholdRidlerCalvard',\n",
       " 'ThresholdRobustBackground',\n",
       " 'TotalArea',\n",
       " 'TotalIntensity']"
      ]
     },
     "execution_count": 3,
     "metadata": {},
     "output_type": "execute_result"
    }
   ],
   "source": [
    "from pharmbio.qc import get_qc_module\n",
    "\n",
    "get_qc_module(sarscov2.qc_data)"
   ]
  },
  {
   "cell_type": "code",
   "execution_count": 4,
   "metadata": {},
   "outputs": [
    {
     "data": {
      "text/plain": [
       "['CONC', 'HOECHST', 'MITO', 'PHAandWGA', 'SYTO']"
      ]
     },
     "execution_count": 4,
     "metadata": {},
     "output_type": "execute_result"
    }
   ],
   "source": [
    "from pharmbio.qc import get_qc_data_dict\n",
    "import re\n",
    "\n",
    "get_qc_data_dict(sarscov2.qc_data, module_to_keep={'Correlation'})['Correlation']\n",
    "\n",
    "[\n",
    "    re.sub('^.*?_.*?_', '', c)\n",
    "    for c in list(get_qc_data_dict(sarscov2.qc_data, module_to_keep={'PowerLogLogSlope'})['PowerLogLogSlope'].columns)\n",
    "]"
   ]
  },
  {
   "cell_type": "code",
   "execution_count": 5,
   "metadata": {},
   "outputs": [
    {
     "name": "stdout",
     "output_type": "stream",
     "text": [
      "Correlation\n",
      "  Channels: ['CONC', 'HOECHST', 'MITO', 'PHAandWGA', 'SYTO']\n",
      "  Sub-channels: ['CONC_10', 'CONC_30', 'HOECHST_200', 'HOECHST_80', 'MITO_30', 'MITO_5', 'PHAandWGA_20', 'PHAandWGA_200', 'PHAandWGA_80', 'SYTO_20', 'SYTO_5']\n",
      "\n",
      "FocusScore\n",
      "  Channels: ['CONC', 'HOECHST', 'MITO', 'PHAandWGA', 'SYTO']\n",
      "  Sub-channels: []\n",
      "\n"
     ]
    }
   ],
   "source": [
    "from pharmbio.qc import get_channels\n",
    "\n",
    "get_channels(sarscov2.qc_data)\n",
    "\n",
    "def pretty_print_dict(d):\n",
    "    for module, data in d.items():\n",
    "        print(module)\n",
    "        print(\"  Channels:\", data['channels'])\n",
    "        print(\"  Sub-channels:\", data['sub_channels'])\n",
    "        print()\n",
    "        \n",
    "pretty_print_dict(get_channels(sarscov2.qc_data, qc_module_list=['Correlation', 'FocusScore']))\n"
   ]
  },
  {
   "cell_type": "code",
   "execution_count": 18,
   "metadata": {},
   "outputs": [
    {
     "name": "stdout",
     "output_type": "stream",
     "text": [
      "shape: (1, 1)\n",
      "┌──────────────┐\n",
      "│ outlier_flag │\n",
      "│ ---          │\n",
      "│ i64          │\n",
      "╞══════════════╡\n",
      "│ 356          │\n",
      "└──────────────┘\n"
     ]
    },
    {
     "data": {
      "text/html": [
       "<div><style>\n",
       ".dataframe > thead > tr > th,\n",
       ".dataframe > tbody > tr > td {\n",
       "  text-align: right;\n",
       "}\n",
       "</style>\n",
       "<small>shape: (7_680, 595)</small><table border=\"1\" class=\"dataframe\"><thead><tr><th>AreaOccupied_AreaOccupied_nuclei</th><th>AreaOccupied_Perimeter_nuclei</th><th>AreaOccupied_TotalArea_nuclei</th><th>Count_nuclei</th><th>ExecutionTime_01LoadData</th><th>ExecutionTime_02MeasureImageQuality</th><th>ExecutionTime_03FlagImage</th><th>ExecutionTime_04MeasureImageQuality</th><th>ExecutionTime_05FlagImage</th><th>ExecutionTime_06MeasureImageQuality</th><th>ExecutionTime_07FlagImage</th><th>ExecutionTime_08MeasureImageQuality</th><th>ExecutionTime_09FlagImage</th><th>ExecutionTime_10MeasureImageQuality</th><th>ExecutionTime_11FlagImage</th><th>ExecutionTime_12IdentifyPrimaryObjects</th><th>ExecutionTime_13MeasureImageAreaOccupied</th><th>ExecutionTime_14MeasureObjectSizeShape</th><th>ExecutionTime_15CalculateMath</th><th>ExecutionTime_16CalculateMath</th><th>FileName_CONC</th><th>FileName_HOECHST</th><th>FileName_MITO</th><th>FileName_PHAandWGA</th><th>FileName_SYTO</th><th>Group_Index</th><th>Group_Length</th><th>Group_Number</th><th>Height_CONC</th><th>Height_HOECHST</th><th>Height_MITO</th><th>Height_PHAandWGA</th><th>Height_SYTO</th><th>ImageNumber</th><th>ImageQuality_Correlation_CONC_10</th><th>ImageQuality_Correlation_CONC_30</th><th>ImageQuality_Correlation_HOECHST_200</th><th>&hellip;</th><th>StDev_nuclei_AreaShape_Zernike_9_9</th><th>StDev_nuclei_Location_Center_X</th><th>StDev_nuclei_Location_Center_Y</th><th>StDev_nuclei_Location_Center_Z</th><th>Threshold_FinalThreshold_nuclei</th><th>Threshold_GuideThreshold_nuclei</th><th>Threshold_OrigThreshold_nuclei</th><th>Threshold_SumOfEntropies_nuclei</th><th>Threshold_WeightedVariance_nuclei</th><th>URL_CONC</th><th>URL_HOECHST</th><th>URL_MITO</th><th>URL_PHAandWGA</th><th>URL_SYTO</th><th>Width_CONC</th><th>Width_HOECHST</th><th>Width_MITO</th><th>Width_PHAandWGA</th><th>Width_SYTO</th><th>qc_flag_rawCONC_Blurred</th><th>qc_flag_rawCONC_Saturated</th><th>qc_flag_rawHOECHST_Blurry</th><th>qc_flag_rawHOECHST_Saturated</th><th>qc_flag_rawMITO_Blurry</th><th>qc_flag_rawMITO_Saturated</th><th>qc_flag_rawPHAandWGA_Blurry</th><th>qc_flag_rawPHAandWGA_Saturated</th><th>qc_flag_rawSYTO_Blurred</th><th>qc_flag_rawSYTO_Saturated</th><th>Metadata_AcqID</th><th>ImageID</th><th>OutlierIQR_FocusScore_-3.586_3.527</th><th>OutlierIQR_MaxIntensity_-4.733_5.164</th><th>OutlierIQR_MeanIntensity_-3.3_3.348</th><th>OutlierIQR_PowerLogLogSlope_-3.503_3.551</th><th>OutlierIQR_StdIntensity_-3.51_3.297</th><th>outlier_flag</th></tr><tr><td>f32</td><td>f32</td><td>f32</td><td>f32</td><td>f32</td><td>f32</td><td>f32</td><td>f32</td><td>f32</td><td>f32</td><td>f32</td><td>f32</td><td>f32</td><td>f32</td><td>f32</td><td>f32</td><td>f32</td><td>f32</td><td>f32</td><td>f32</td><td>str</td><td>str</td><td>str</td><td>str</td><td>str</td><td>i32</td><td>i32</td><td>i32</td><td>i32</td><td>i32</td><td>i32</td><td>i32</td><td>i32</td><td>i32</td><td>f32</td><td>f32</td><td>f32</td><td>&hellip;</td><td>f32</td><td>f32</td><td>f32</td><td>f32</td><td>f32</td><td>f32</td><td>f32</td><td>f32</td><td>f32</td><td>str</td><td>str</td><td>str</td><td>str</td><td>str</td><td>i32</td><td>i32</td><td>i32</td><td>i32</td><td>i32</td><td>i32</td><td>i32</td><td>i32</td><td>i32</td><td>i32</td><td>i32</td><td>i32</td><td>i32</td><td>i32</td><td>i32</td><td>i32</td><td>str</td><td>i64</td><td>i64</td><td>i64</td><td>i64</td><td>i64</td><td>i64</td></tr></thead><tbody><tr><td>343016.0</td><td>30603.0</td><td>4.6656e6</td><td>184.0</td><td>4.19</td><td>11.3</td><td>0.01</td><td>13.3</td><td>0.0</td><td>14.39</td><td>0.0</td><td>12.69</td><td>0.0</td><td>13.91</td><td>0.0</td><td>5.79</td><td>0.06</td><td>5.46</td><td>0.0</td><td>0.0</td><td>&quot;PE000049-veroE…</td><td>&quot;PE000049-veroE…</td><td>&quot;PE000049-veroE…</td><td>&quot;PE000049-veroE…</td><td>&quot;PE000049-veroE…</td><td>0</td><td>1</td><td>1</td><td>2160</td><td>2160</td><td>2160</td><td>2160</td><td>2160</td><td>1</td><td>0.759817</td><td>0.475376</td><td>0.007568</td><td>&hellip;</td><td>0.001374</td><td>600.412659</td><td>557.625244</td><td>0.0</td><td>0.012593</td><td>0.016412</td><td>0.006421</td><td>-12.487138</td><td>0.504155</td><td>&quot;file:/share/mi…</td><td>&quot;file:/share/mi…</td><td>&quot;file:/share/mi…</td><td>&quot;file:/share/mi…</td><td>&quot;file:/share/mi…</td><td>2160</td><td>2160</td><td>2160</td><td>2160</td><td>2160</td><td>0</td><td>0</td><td>0</td><td>0</td><td>0</td><td>0</td><td>0</td><td>0</td><td>1</td><td>0</td><td>1005</td><td>&quot;1005_A01_1&quot;</td><td>0</td><td>0</td><td>0</td><td>0</td><td>0</td><td>0</td></tr><tr><td>295356.0</td><td>25824.0</td><td>4.6656e6</td><td>156.0</td><td>4.61</td><td>14.29</td><td>0.01</td><td>11.6</td><td>0.0</td><td>14.43</td><td>0.0</td><td>14.5</td><td>0.0</td><td>15.12</td><td>0.0</td><td>6.61</td><td>0.06</td><td>5.53</td><td>0.0</td><td>0.0</td><td>&quot;PE000049-veroE…</td><td>&quot;PE000049-veroE…</td><td>&quot;PE000049-veroE…</td><td>&quot;PE000049-veroE…</td><td>&quot;PE000049-veroE…</td><td>0</td><td>1</td><td>1</td><td>2160</td><td>2160</td><td>2160</td><td>2160</td><td>2160</td><td>1</td><td>0.798159</td><td>0.514687</td><td>0.010176</td><td>&hellip;</td><td>0.001422</td><td>621.378296</td><td>651.543518</td><td>0.0</td><td>0.012738</td><td>0.016715</td><td>0.006062</td><td>-12.509486</td><td>0.516467</td><td>&quot;file:/share/mi…</td><td>&quot;file:/share/mi…</td><td>&quot;file:/share/mi…</td><td>&quot;file:/share/mi…</td><td>&quot;file:/share/mi…</td><td>2160</td><td>2160</td><td>2160</td><td>2160</td><td>2160</td><td>0</td><td>0</td><td>0</td><td>0</td><td>0</td><td>0</td><td>0</td><td>0</td><td>1</td><td>0</td><td>1005</td><td>&quot;1005_A01_2&quot;</td><td>0</td><td>0</td><td>0</td><td>0</td><td>0</td><td>0</td></tr><tr><td>256101.0</td><td>22426.0</td><td>4.6656e6</td><td>135.0</td><td>4.12</td><td>13.39</td><td>0.01</td><td>10.7</td><td>0.0</td><td>14.22</td><td>0.0</td><td>14.08</td><td>0.0</td><td>14.21</td><td>0.0</td><td>5.99</td><td>0.06</td><td>6.38</td><td>0.01</td><td>0.0</td><td>&quot;PE000049-veroE…</td><td>&quot;PE000049-veroE…</td><td>&quot;PE000049-veroE…</td><td>&quot;PE000049-veroE…</td><td>&quot;PE000049-veroE…</td><td>0</td><td>1</td><td>1</td><td>2160</td><td>2160</td><td>2160</td><td>2160</td><td>2160</td><td>1</td><td>0.769253</td><td>0.507993</td><td>-0.023378</td><td>&hellip;</td><td>0.001072</td><td>588.080872</td><td>587.593689</td><td>0.0</td><td>0.012418</td><td>0.016532</td><td>0.005371</td><td>-12.534272</td><td>0.537314</td><td>&quot;file:/share/mi…</td><td>&quot;file:/share/mi…</td><td>&quot;file:/share/mi…</td><td>&quot;file:/share/mi…</td><td>&quot;file:/share/mi…</td><td>2160</td><td>2160</td><td>2160</td><td>2160</td><td>2160</td><td>0</td><td>0</td><td>1</td><td>0</td><td>0</td><td>0</td><td>0</td><td>0</td><td>1</td><td>0</td><td>1005</td><td>&quot;1005_A01_3&quot;</td><td>0</td><td>0</td><td>0</td><td>0</td><td>0</td><td>0</td></tr><tr><td>256549.0</td><td>23495.0</td><td>4.6656e6</td><td>148.0</td><td>3.7</td><td>10.95</td><td>0.0</td><td>12.97</td><td>0.01</td><td>13.48</td><td>0.0</td><td>12.93</td><td>0.0</td><td>15.25</td><td>0.01</td><td>7.32</td><td>0.06</td><td>5.2</td><td>0.0</td><td>0.0</td><td>&quot;PE000049-veroE…</td><td>&quot;PE000049-veroE…</td><td>&quot;PE000049-veroE…</td><td>&quot;PE000049-veroE…</td><td>&quot;PE000049-veroE…</td><td>0</td><td>1</td><td>1</td><td>2160</td><td>2160</td><td>2160</td><td>2160</td><td>2160</td><td>1</td><td>0.795237</td><td>0.5004</td><td>-0.009082</td><td>&hellip;</td><td>0.001493</td><td>590.243164</td><td>617.30304</td><td>0.0</td><td>0.013799</td><td>0.018339</td><td>0.005972</td><td>-12.618263</td><td>0.552518</td><td>&quot;file:/share/mi…</td><td>&quot;file:/share/mi…</td><td>&quot;file:/share/mi…</td><td>&quot;file:/share/mi…</td><td>&quot;file:/share/mi…</td><td>2160</td><td>2160</td><td>2160</td><td>2160</td><td>2160</td><td>0</td><td>0</td><td>0</td><td>0</td><td>0</td><td>0</td><td>0</td><td>0</td><td>1</td><td>0</td><td>1005</td><td>&quot;1005_A01_4&quot;</td><td>0</td><td>0</td><td>0</td><td>0</td><td>0</td><td>0</td></tr><tr><td>404284.0</td><td>34418.0</td><td>4.6656e6</td><td>201.0</td><td>3.29</td><td>13.75</td><td>0.0</td><td>13.28</td><td>0.0</td><td>14.47</td><td>0.01</td><td>14.78</td><td>0.0</td><td>14.0</td><td>0.01</td><td>6.11</td><td>0.07</td><td>5.87</td><td>0.0</td><td>0.0</td><td>&quot;PE000049-veroE…</td><td>&quot;PE000049-veroE…</td><td>&quot;PE000049-veroE…</td><td>&quot;PE000049-veroE…</td><td>&quot;PE000049-veroE…</td><td>0</td><td>1</td><td>1</td><td>2160</td><td>2160</td><td>2160</td><td>2160</td><td>2160</td><td>1</td><td>0.700614</td><td>0.390636</td><td>0.016567</td><td>&hellip;</td><td>0.001331</td><td>571.558167</td><td>618.368958</td><td>0.0</td><td>0.011981</td><td>0.015547</td><td>0.006617</td><td>-12.483727</td><td>0.496255</td><td>&quot;file:/share/mi…</td><td>&quot;file:/share/mi…</td><td>&quot;file:/share/mi…</td><td>&quot;file:/share/mi…</td><td>&quot;file:/share/mi…</td><td>2160</td><td>2160</td><td>2160</td><td>2160</td><td>2160</td><td>0</td><td>0</td><td>0</td><td>0</td><td>0</td><td>0</td><td>0</td><td>0</td><td>1</td><td>0</td><td>1005</td><td>&quot;1005_A02_1&quot;</td><td>0</td><td>0</td><td>0</td><td>0</td><td>0</td><td>0</td></tr><tr><td>322392.0</td><td>27827.0</td><td>4.6656e6</td><td>166.0</td><td>3.91</td><td>11.56</td><td>0.01</td><td>12.26</td><td>0.0</td><td>15.7</td><td>0.0</td><td>15.33</td><td>0.0</td><td>15.19</td><td>0.0</td><td>5.75</td><td>0.06</td><td>5.28</td><td>0.0</td><td>0.0</td><td>&quot;PE000049-veroE…</td><td>&quot;PE000049-veroE…</td><td>&quot;PE000049-veroE…</td><td>&quot;PE000049-veroE…</td><td>&quot;PE000049-veroE…</td><td>0</td><td>1</td><td>1</td><td>2160</td><td>2160</td><td>2160</td><td>2160</td><td>2160</td><td>1</td><td>0.78016</td><td>0.482152</td><td>-0.013382</td><td>&hellip;</td><td>0.001341</td><td>559.035645</td><td>659.473572</td><td>0.0</td><td>0.011975</td><td>0.015666</td><td>0.006094</td><td>-12.495925</td><td>0.509876</td><td>&quot;file:/share/mi…</td><td>&quot;file:/share/mi…</td><td>&quot;file:/share/mi…</td><td>&quot;file:/share/mi…</td><td>&quot;file:/share/mi…</td><td>2160</td><td>2160</td><td>2160</td><td>2160</td><td>2160</td><td>0</td><td>0</td><td>1</td><td>0</td><td>0</td><td>0</td><td>0</td><td>0</td><td>1</td><td>0</td><td>1005</td><td>&quot;1005_A02_2&quot;</td><td>0</td><td>0</td><td>0</td><td>0</td><td>0</td><td>0</td></tr><tr><td>253106.0</td><td>21869.0</td><td>4.6656e6</td><td>131.0</td><td>3.29</td><td>13.71</td><td>0.0</td><td>12.27</td><td>0.0</td><td>15.8</td><td>0.0</td><td>14.37</td><td>0.0</td><td>13.71</td><td>0.01</td><td>5.87</td><td>0.05</td><td>5.29</td><td>0.0</td><td>0.0</td><td>&quot;PE000049-veroE…</td><td>&quot;PE000049-veroE…</td><td>&quot;PE000049-veroE…</td><td>&quot;PE000049-veroE…</td><td>&quot;PE000049-veroE…</td><td>0</td><td>1</td><td>1</td><td>2160</td><td>2160</td><td>2160</td><td>2160</td><td>2160</td><td>1</td><td>0.699871</td><td>0.417725</td><td>-0.001851</td><td>&hellip;</td><td>0.001442</td><td>585.358032</td><td>636.621582</td><td>0.0</td><td>0.011989</td><td>0.016181</td><td>0.005134</td><td>-12.529794</td><td>0.494187</td><td>&quot;file:/share/mi…</td><td>&quot;file:/share/mi…</td><td>&quot;file:/share/mi…</td><td>&quot;file:/share/mi…</td><td>&quot;file:/share/mi…</td><td>2160</td><td>2160</td><td>2160</td><td>2160</td><td>2160</td><td>0</td><td>0</td><td>1</td><td>0</td><td>0</td><td>0</td><td>0</td><td>0</td><td>1</td><td>0</td><td>1005</td><td>&quot;1005_A02_3&quot;</td><td>0</td><td>0</td><td>0</td><td>0</td><td>0</td><td>0</td></tr><tr><td>230115.0</td><td>19413.0</td><td>4.6656e6</td><td>112.0</td><td>3.36</td><td>12.26</td><td>0.0</td><td>11.73</td><td>0.01</td><td>14.39</td><td>0.01</td><td>14.15</td><td>0.01</td><td>15.81</td><td>0.0</td><td>6.18</td><td>0.05</td><td>5.31</td><td>0.0</td><td>0.01</td><td>&quot;PE000049-veroE…</td><td>&quot;PE000049-veroE…</td><td>&quot;PE000049-veroE…</td><td>&quot;PE000049-veroE…</td><td>&quot;PE000049-veroE…</td><td>0</td><td>1</td><td>1</td><td>2160</td><td>2160</td><td>2160</td><td>2160</td><td>2160</td><td>1</td><td>0.793719</td><td>0.498371</td><td>-0.008153</td><td>&hellip;</td><td>0.001265</td><td>561.842224</td><td>566.012512</td><td>0.0</td><td>0.012536</td><td>0.016936</td><td>0.005197</td><td>-12.359403</td><td>0.441704</td><td>&quot;file:/share/mi…</td><td>&quot;file:/share/mi…</td><td>&quot;file:/share/mi…</td><td>&quot;file:/share/mi…</td><td>&quot;file:/share/mi…</td><td>2160</td><td>2160</td><td>2160</td><td>2160</td><td>2160</td><td>0</td><td>0</td><td>1</td><td>0</td><td>0</td><td>0</td><td>1</td><td>0</td><td>1</td><td>0</td><td>1005</td><td>&quot;1005_A02_4&quot;</td><td>0</td><td>0</td><td>0</td><td>0</td><td>0</td><td>0</td></tr><tr><td>259450.0</td><td>22157.0</td><td>4.6656e6</td><td>128.0</td><td>4.05</td><td>12.79</td><td>0.0</td><td>11.31</td><td>0.0</td><td>14.55</td><td>0.01</td><td>13.73</td><td>0.0</td><td>14.22</td><td>0.0</td><td>6.26</td><td>0.05</td><td>5.45</td><td>0.0</td><td>0.0</td><td>&quot;PE000049-veroE…</td><td>&quot;PE000049-veroE…</td><td>&quot;PE000049-veroE…</td><td>&quot;PE000049-veroE…</td><td>&quot;PE000049-veroE…</td><td>0</td><td>1</td><td>1</td><td>2160</td><td>2160</td><td>2160</td><td>2160</td><td>2160</td><td>1</td><td>0.766089</td><td>0.459629</td><td>-0.011274</td><td>&hellip;</td><td>0.001498</td><td>581.888855</td><td>610.708191</td><td>0.0</td><td>0.013566</td><td>0.018387</td><td>0.005729</td><td>-12.552368</td><td>0.490086</td><td>&quot;file:/share/mi…</td><td>&quot;file:/share/mi…</td><td>&quot;file:/share/mi…</td><td>&quot;file:/share/mi…</td><td>&quot;file:/share/mi…</td><td>2160</td><td>2160</td><td>2160</td><td>2160</td><td>2160</td><td>0</td><td>0</td><td>1</td><td>0</td><td>0</td><td>0</td><td>1</td><td>0</td><td>1</td><td>0</td><td>1005</td><td>&quot;1005_A03_1&quot;</td><td>0</td><td>0</td><td>0</td><td>0</td><td>0</td><td>0</td></tr><tr><td>329062.0</td><td>29065.0</td><td>4.6656e6</td><td>175.0</td><td>3.44</td><td>12.76</td><td>0.0</td><td>12.24</td><td>0.0</td><td>14.46</td><td>0.0</td><td>14.56</td><td>0.01</td><td>14.02</td><td>0.01</td><td>6.36</td><td>0.07</td><td>5.6</td><td>0.0</td><td>0.0</td><td>&quot;PE000049-veroE…</td><td>&quot;PE000049-veroE…</td><td>&quot;PE000049-veroE…</td><td>&quot;PE000049-veroE…</td><td>&quot;PE000049-veroE…</td><td>0</td><td>1</td><td>1</td><td>2160</td><td>2160</td><td>2160</td><td>2160</td><td>2160</td><td>1</td><td>0.792282</td><td>0.460581</td><td>-0.01163</td><td>&hellip;</td><td>0.001485</td><td>600.237732</td><td>631.442871</td><td>0.0</td><td>0.013095</td><td>0.017485</td><td>0.006245</td><td>-12.548768</td><td>0.495183</td><td>&quot;file:/share/mi…</td><td>&quot;file:/share/mi…</td><td>&quot;file:/share/mi…</td><td>&quot;file:/share/mi…</td><td>&quot;file:/share/mi…</td><td>2160</td><td>2160</td><td>2160</td><td>2160</td><td>2160</td><td>0</td><td>0</td><td>1</td><td>0</td><td>0</td><td>0</td><td>0</td><td>0</td><td>1</td><td>0</td><td>1005</td><td>&quot;1005_A03_2&quot;</td><td>0</td><td>0</td><td>0</td><td>0</td><td>0</td><td>0</td></tr><tr><td>206329.0</td><td>16946.0</td><td>4.6656e6</td><td>100.0</td><td>3.23</td><td>13.02</td><td>0.0</td><td>12.3</td><td>0.01</td><td>14.81</td><td>0.0</td><td>14.58</td><td>0.0</td><td>13.69</td><td>0.01</td><td>5.65</td><td>0.04</td><td>5.24</td><td>0.0</td><td>0.0</td><td>&quot;PE000049-veroE…</td><td>&quot;PE000049-veroE…</td><td>&quot;PE000049-veroE…</td><td>&quot;PE000049-veroE…</td><td>&quot;PE000049-veroE…</td><td>0</td><td>1</td><td>1</td><td>2160</td><td>2160</td><td>2160</td><td>2160</td><td>2160</td><td>1</td><td>0.760689</td><td>0.451668</td><td>0.010763</td><td>&hellip;</td><td>0.001527</td><td>624.495667</td><td>619.787109</td><td>0.0</td><td>0.013737</td><td>0.018753</td><td>0.00527</td><td>-12.419985</td><td>0.436033</td><td>&quot;file:/share/mi…</td><td>&quot;file:/share/mi…</td><td>&quot;file:/share/mi…</td><td>&quot;file:/share/mi…</td><td>&quot;file:/share/mi…</td><td>2160</td><td>2160</td><td>2160</td><td>2160</td><td>2160</td><td>0</td><td>0</td><td>1</td><td>0</td><td>0</td><td>0</td><td>1</td><td>0</td><td>1</td><td>0</td><td>1005</td><td>&quot;1005_A03_3&quot;</td><td>0</td><td>0</td><td>0</td><td>0</td><td>0</td><td>0</td></tr><tr><td>271663.0</td><td>23756.0</td><td>4.6656e6</td><td>145.0</td><td>3.67</td><td>12.75</td><td>0.0</td><td>12.16</td><td>0.0</td><td>16.200001</td><td>0.01</td><td>15.8</td><td>0.01</td><td>14.09</td><td>0.01</td><td>5.93</td><td>0.05</td><td>5.09</td><td>0.0</td><td>0.0</td><td>&quot;PE000049-veroE…</td><td>&quot;PE000049-veroE…</td><td>&quot;PE000049-veroE…</td><td>&quot;PE000049-veroE…</td><td>&quot;PE000049-veroE…</td><td>0</td><td>1</td><td>1</td><td>2160</td><td>2160</td><td>2160</td><td>2160</td><td>2160</td><td>1</td><td>0.7524</td><td>0.481269</td><td>0.022243</td><td>&hellip;</td><td>0.001315</td><td>561.648193</td><td>557.566711</td><td>0.0</td><td>0.012788</td><td>0.017032</td><td>0.005879</td><td>-12.568309</td><td>0.49177</td><td>&quot;file:/share/mi…</td><td>&quot;file:/share/mi…</td><td>&quot;file:/share/mi…</td><td>&quot;file:/share/mi…</td><td>&quot;file:/share/mi…</td><td>2160</td><td>2160</td><td>2160</td><td>2160</td><td>2160</td><td>0</td><td>0</td><td>0</td><td>0</td><td>0</td><td>0</td><td>0</td><td>0</td><td>1</td><td>0</td><td>1005</td><td>&quot;1005_A03_4&quot;</td><td>0</td><td>0</td><td>0</td><td>0</td><td>0</td><td>0</td></tr><tr><td>&hellip;</td><td>&hellip;</td><td>&hellip;</td><td>&hellip;</td><td>&hellip;</td><td>&hellip;</td><td>&hellip;</td><td>&hellip;</td><td>&hellip;</td><td>&hellip;</td><td>&hellip;</td><td>&hellip;</td><td>&hellip;</td><td>&hellip;</td><td>&hellip;</td><td>&hellip;</td><td>&hellip;</td><td>&hellip;</td><td>&hellip;</td><td>&hellip;</td><td>&hellip;</td><td>&hellip;</td><td>&hellip;</td><td>&hellip;</td><td>&hellip;</td><td>&hellip;</td><td>&hellip;</td><td>&hellip;</td><td>&hellip;</td><td>&hellip;</td><td>&hellip;</td><td>&hellip;</td><td>&hellip;</td><td>&hellip;</td><td>&hellip;</td><td>&hellip;</td><td>&hellip;</td><td>&hellip;</td><td>&hellip;</td><td>&hellip;</td><td>&hellip;</td><td>&hellip;</td><td>&hellip;</td><td>&hellip;</td><td>&hellip;</td><td>&hellip;</td><td>&hellip;</td><td>&hellip;</td><td>&hellip;</td><td>&hellip;</td><td>&hellip;</td><td>&hellip;</td><td>&hellip;</td><td>&hellip;</td><td>&hellip;</td><td>&hellip;</td><td>&hellip;</td><td>&hellip;</td><td>&hellip;</td><td>&hellip;</td><td>&hellip;</td><td>&hellip;</td><td>&hellip;</td><td>&hellip;</td><td>&hellip;</td><td>&hellip;</td><td>&hellip;</td><td>&hellip;</td><td>&hellip;</td><td>&hellip;</td><td>&hellip;</td><td>&hellip;</td><td>&hellip;</td><td>&hellip;</td><td>&hellip;</td></tr><tr><td>413863.0</td><td>35028.0</td><td>4.6656e6</td><td>209.0</td><td>3.94</td><td>13.68</td><td>0.0</td><td>12.37</td><td>0.01</td><td>15.06</td><td>0.01</td><td>16.969999</td><td>0.01</td><td>19.85</td><td>0.01</td><td>8.24</td><td>0.09</td><td>7.4</td><td>0.0</td><td>0.01</td><td>&quot;PE000053-veroE…</td><td>&quot;PE000053-veroE…</td><td>&quot;PE000053-veroE…</td><td>&quot;PE000053-veroE…</td><td>&quot;PE000053-veroE…</td><td>0</td><td>1</td><td>1</td><td>2160</td><td>2160</td><td>2160</td><td>2160</td><td>2160</td><td>1</td><td>0.65775</td><td>0.329957</td><td>0.004854</td><td>&hellip;</td><td>0.001234</td><td>580.360779</td><td>556.289795</td><td>0.0</td><td>0.012124</td><td>0.015277</td><td>0.007058</td><td>-12.258962</td><td>0.437546</td><td>&quot;file:/share/mi…</td><td>&quot;file:/share/mi…</td><td>&quot;file:/share/mi…</td><td>&quot;file:/share/mi…</td><td>&quot;file:/share/mi…</td><td>2160</td><td>2160</td><td>2160</td><td>2160</td><td>2160</td><td>0</td><td>0</td><td>0</td><td>0</td><td>0</td><td>0</td><td>0</td><td>0</td><td>1</td><td>0</td><td>1008</td><td>&quot;1008_P22_1&quot;</td><td>0</td><td>0</td><td>0</td><td>0</td><td>0</td><td>0</td></tr><tr><td>320242.0</td><td>26737.0</td><td>4.6656e6</td><td>160.0</td><td>4.34</td><td>15.87</td><td>0.01</td><td>16.0</td><td>0.01</td><td>20.82</td><td>0.0</td><td>23.68</td><td>0.0</td><td>25.32</td><td>0.0</td><td>9.2</td><td>0.07</td><td>9.09</td><td>0.0</td><td>0.0</td><td>&quot;PE000053-veroE…</td><td>&quot;PE000053-veroE…</td><td>&quot;PE000053-veroE…</td><td>&quot;PE000053-veroE…</td><td>&quot;PE000053-veroE…</td><td>0</td><td>1</td><td>1</td><td>2160</td><td>2160</td><td>2160</td><td>2160</td><td>2160</td><td>1</td><td>0.663903</td><td>0.366277</td><td>0.029893</td><td>&hellip;</td><td>0.001383</td><td>588.164734</td><td>612.846313</td><td>0.0</td><td>0.01203</td><td>0.015828</td><td>0.006019</td><td>-12.425408</td><td>0.46142</td><td>&quot;file:/share/mi…</td><td>&quot;file:/share/mi…</td><td>&quot;file:/share/mi…</td><td>&quot;file:/share/mi…</td><td>&quot;file:/share/mi…</td><td>2160</td><td>2160</td><td>2160</td><td>2160</td><td>2160</td><td>0</td><td>0</td><td>0</td><td>0</td><td>0</td><td>0</td><td>0</td><td>0</td><td>1</td><td>0</td><td>1008</td><td>&quot;1008_P22_2&quot;</td><td>0</td><td>0</td><td>0</td><td>0</td><td>0</td><td>0</td></tr><tr><td>416549.0</td><td>34102.0</td><td>4.6656e6</td><td>198.0</td><td>3.75</td><td>15.54</td><td>0.0</td><td>14.05</td><td>0.01</td><td>19.190001</td><td>0.0</td><td>24.09</td><td>0.0</td><td>47.57</td><td>0.0</td><td>18.360001</td><td>0.07</td><td>7.86</td><td>0.0</td><td>0.01</td><td>&quot;PE000053-veroE…</td><td>&quot;PE000053-veroE…</td><td>&quot;PE000053-veroE…</td><td>&quot;PE000053-veroE…</td><td>&quot;PE000053-veroE…</td><td>0</td><td>1</td><td>1</td><td>2160</td><td>2160</td><td>2160</td><td>2160</td><td>2160</td><td>1</td><td>0.623512</td><td>0.31021</td><td>-0.01072</td><td>&hellip;</td><td>0.001262</td><td>623.04126</td><td>572.968506</td><td>0.0</td><td>0.013006</td><td>0.017068</td><td>0.006926</td><td>-12.249551</td><td>0.427524</td><td>&quot;file:/share/mi…</td><td>&quot;file:/share/mi…</td><td>&quot;file:/share/mi…</td><td>&quot;file:/share/mi…</td><td>&quot;file:/share/mi…</td><td>2160</td><td>2160</td><td>2160</td><td>2160</td><td>2160</td><td>0</td><td>0</td><td>0</td><td>0</td><td>0</td><td>0</td><td>0</td><td>0</td><td>1</td><td>0</td><td>1008</td><td>&quot;1008_P22_3&quot;</td><td>0</td><td>0</td><td>0</td><td>0</td><td>0</td><td>0</td></tr><tr><td>495227.0</td><td>42634.0</td><td>4.6656e6</td><td>260.0</td><td>4.17</td><td>12.3</td><td>0.01</td><td>11.88</td><td>0.0</td><td>13.71</td><td>0.0</td><td>14.55</td><td>0.0</td><td>13.32</td><td>0.01</td><td>5.49</td><td>0.07</td><td>5.73</td><td>0.01</td><td>0.0</td><td>&quot;PE000053-veroE…</td><td>&quot;PE000053-veroE…</td><td>&quot;PE000053-veroE…</td><td>&quot;PE000053-veroE…</td><td>&quot;PE000053-veroE…</td><td>0</td><td>1</td><td>1</td><td>2160</td><td>2160</td><td>2160</td><td>2160</td><td>2160</td><td>1</td><td>0.612928</td><td>0.283144</td><td>-0.01668</td><td>&hellip;</td><td>0.001172</td><td>574.365845</td><td>587.327209</td><td>0.0</td><td>0.012667</td><td>0.016028</td><td>0.007643</td><td>-12.391882</td><td>0.467818</td><td>&quot;file:/share/mi…</td><td>&quot;file:/share/mi…</td><td>&quot;file:/share/mi…</td><td>&quot;file:/share/mi…</td><td>&quot;file:/share/mi…</td><td>2160</td><td>2160</td><td>2160</td><td>2160</td><td>2160</td><td>0</td><td>0</td><td>0</td><td>0</td><td>0</td><td>0</td><td>0</td><td>0</td><td>0</td><td>0</td><td>1008</td><td>&quot;1008_P22_4&quot;</td><td>0</td><td>0</td><td>0</td><td>0</td><td>0</td><td>0</td></tr><tr><td>447580.0</td><td>38049.0</td><td>4.6656e6</td><td>231.0</td><td>4.53</td><td>33.720001</td><td>0.01</td><td>13.76</td><td>0.0</td><td>14.39</td><td>0.0</td><td>14.68</td><td>0.01</td><td>14.34</td><td>0.0</td><td>6.02</td><td>0.07</td><td>6.17</td><td>0.01</td><td>0.0</td><td>&quot;PE000053-veroE…</td><td>&quot;PE000053-veroE…</td><td>&quot;PE000053-veroE…</td><td>&quot;PE000053-veroE…</td><td>&quot;PE000053-veroE…</td><td>0</td><td>1</td><td>1</td><td>2160</td><td>2160</td><td>2160</td><td>2160</td><td>2160</td><td>1</td><td>0.604397</td><td>0.291118</td><td>0.024293</td><td>&hellip;</td><td>0.001456</td><td>579.004395</td><td>549.569397</td><td>0.0</td><td>0.012857</td><td>0.016739</td><td>0.007232</td><td>-12.388786</td><td>0.459505</td><td>&quot;file:/share/mi…</td><td>&quot;file:/share/mi…</td><td>&quot;file:/share/mi…</td><td>&quot;file:/share/mi…</td><td>&quot;file:/share/mi…</td><td>2160</td><td>2160</td><td>2160</td><td>2160</td><td>2160</td><td>0</td><td>0</td><td>0</td><td>0</td><td>0</td><td>0</td><td>0</td><td>0</td><td>0</td><td>0</td><td>1008</td><td>&quot;1008_P23_1&quot;</td><td>0</td><td>0</td><td>0</td><td>0</td><td>0</td><td>0</td></tr><tr><td>438757.0</td><td>36726.0</td><td>4.6656e6</td><td>221.0</td><td>4.33</td><td>14.66</td><td>0.0</td><td>13.92</td><td>0.01</td><td>17.290001</td><td>0.0</td><td>20.43</td><td>0.01</td><td>22.93</td><td>0.0</td><td>8.99</td><td>0.11</td><td>10.57</td><td>0.0</td><td>0.0</td><td>&quot;PE000053-veroE…</td><td>&quot;PE000053-veroE…</td><td>&quot;PE000053-veroE…</td><td>&quot;PE000053-veroE…</td><td>&quot;PE000053-veroE…</td><td>0</td><td>1</td><td>1</td><td>2160</td><td>2160</td><td>2160</td><td>2160</td><td>2160</td><td>1</td><td>0.634336</td><td>0.306114</td><td>-0.005437</td><td>&hellip;</td><td>0.001381</td><td>604.444885</td><td>631.468384</td><td>0.0</td><td>0.013077</td><td>0.017133</td><td>0.007092</td><td>-12.442711</td><td>0.475777</td><td>&quot;file:/share/mi…</td><td>&quot;file:/share/mi…</td><td>&quot;file:/share/mi…</td><td>&quot;file:/share/mi…</td><td>&quot;file:/share/mi…</td><td>2160</td><td>2160</td><td>2160</td><td>2160</td><td>2160</td><td>0</td><td>0</td><td>0</td><td>0</td><td>0</td><td>0</td><td>0</td><td>0</td><td>1</td><td>0</td><td>1008</td><td>&quot;1008_P23_2&quot;</td><td>0</td><td>0</td><td>0</td><td>0</td><td>0</td><td>0</td></tr><tr><td>269914.0</td><td>22972.0</td><td>4.6656e6</td><td>138.0</td><td>3.37</td><td>13.61</td><td>0.01</td><td>10.57</td><td>0.0</td><td>13.82</td><td>0.01</td><td>14.59</td><td>0.01</td><td>13.08</td><td>0.0</td><td>6.15</td><td>0.06</td><td>6.19</td><td>0.0</td><td>0.0</td><td>&quot;PE000053-veroE…</td><td>&quot;PE000053-veroE…</td><td>&quot;PE000053-veroE…</td><td>&quot;PE000053-veroE…</td><td>&quot;PE000053-veroE…</td><td>0</td><td>1</td><td>1</td><td>2160</td><td>2160</td><td>2160</td><td>2160</td><td>2160</td><td>1</td><td>0.676941</td><td>0.349829</td><td>-0.002821</td><td>&hellip;</td><td>0.001322</td><td>605.367432</td><td>666.283081</td><td>0.0</td><td>0.012318</td><td>0.016496</td><td>0.005611</td><td>-12.141902</td><td>0.353596</td><td>&quot;file:/share/mi…</td><td>&quot;file:/share/mi…</td><td>&quot;file:/share/mi…</td><td>&quot;file:/share/mi…</td><td>&quot;file:/share/mi…</td><td>2160</td><td>2160</td><td>2160</td><td>2160</td><td>2160</td><td>0</td><td>0</td><td>0</td><td>0</td><td>0</td><td>0</td><td>0</td><td>0</td><td>1</td><td>0</td><td>1008</td><td>&quot;1008_P23_3&quot;</td><td>0</td><td>0</td><td>0</td><td>0</td><td>0</td><td>0</td></tr><tr><td>353714.0</td><td>29378.0</td><td>4.6656e6</td><td>172.0</td><td>4.15</td><td>14.77</td><td>0.01</td><td>14.02</td><td>0.01</td><td>16.129999</td><td>0.01</td><td>17.620001</td><td>0.0</td><td>21.26</td><td>0.01</td><td>9.51</td><td>0.08</td><td>9.55</td><td>0.01</td><td>0.0</td><td>&quot;PE000053-veroE…</td><td>&quot;PE000053-veroE…</td><td>&quot;PE000053-veroE…</td><td>&quot;PE000053-veroE…</td><td>&quot;PE000053-veroE…</td><td>0</td><td>1</td><td>1</td><td>2160</td><td>2160</td><td>2160</td><td>2160</td><td>2160</td><td>1</td><td>0.706618</td><td>0.410616</td><td>-0.01289</td><td>&hellip;</td><td>0.001362</td><td>629.472412</td><td>630.48114</td><td>0.0</td><td>0.01175</td><td>0.015148</td><td>0.006489</td><td>-12.359593</td><td>0.453668</td><td>&quot;file:/share/mi…</td><td>&quot;file:/share/mi…</td><td>&quot;file:/share/mi…</td><td>&quot;file:/share/mi…</td><td>&quot;file:/share/mi…</td><td>2160</td><td>2160</td><td>2160</td><td>2160</td><td>2160</td><td>0</td><td>0</td><td>0</td><td>0</td><td>0</td><td>0</td><td>0</td><td>0</td><td>0</td><td>0</td><td>1008</td><td>&quot;1008_P23_4&quot;</td><td>0</td><td>0</td><td>0</td><td>0</td><td>0</td><td>0</td></tr><tr><td>435437.0</td><td>36367.0</td><td>4.6656e6</td><td>216.0</td><td>4.19</td><td>15.57</td><td>0.0</td><td>15.06</td><td>0.01</td><td>18.540001</td><td>0.01</td><td>22.059999</td><td>0.01</td><td>24.559999</td><td>0.0</td><td>10.48</td><td>0.08</td><td>9.06</td><td>0.0</td><td>0.0</td><td>&quot;PE000053-veroE…</td><td>&quot;PE000053-veroE…</td><td>&quot;PE000053-veroE…</td><td>&quot;PE000053-veroE…</td><td>&quot;PE000053-veroE…</td><td>0</td><td>1</td><td>1</td><td>2160</td><td>2160</td><td>2160</td><td>2160</td><td>2160</td><td>1</td><td>0.630653</td><td>0.332516</td><td>-0.002265</td><td>&hellip;</td><td>0.001249</td><td>601.431213</td><td>603.713623</td><td>0.0</td><td>0.011469</td><td>0.014656</td><td>0.006694</td><td>-12.419412</td><td>0.481085</td><td>&quot;file:/share/mi…</td><td>&quot;file:/share/mi…</td><td>&quot;file:/share/mi…</td><td>&quot;file:/share/mi…</td><td>&quot;file:/share/mi…</td><td>2160</td><td>2160</td><td>2160</td><td>2160</td><td>2160</td><td>0</td><td>0</td><td>0</td><td>0</td><td>0</td><td>0</td><td>0</td><td>0</td><td>0</td><td>0</td><td>1008</td><td>&quot;1008_P24_1&quot;</td><td>0</td><td>0</td><td>0</td><td>0</td><td>0</td><td>0</td></tr><tr><td>424521.0</td><td>34597.0</td><td>4.6656e6</td><td>199.0</td><td>4.31</td><td>40.709999</td><td>0.0</td><td>42.259998</td><td>0.0</td><td>50.73</td><td>0.0</td><td>55.439999</td><td>0.01</td><td>51.93</td><td>0.0</td><td>15.47</td><td>0.06</td><td>5.5</td><td>0.01</td><td>0.01</td><td>&quot;PE000053-veroE…</td><td>&quot;PE000053-veroE…</td><td>&quot;PE000053-veroE…</td><td>&quot;PE000053-veroE…</td><td>&quot;PE000053-veroE…</td><td>0</td><td>1</td><td>1</td><td>2160</td><td>2160</td><td>2160</td><td>2160</td><td>2160</td><td>1</td><td>0.62567</td><td>0.314366</td><td>0.013627</td><td>&hellip;</td><td>0.001541</td><td>632.17627</td><td>607.834717</td><td>0.0</td><td>0.01194</td><td>0.015493</td><td>0.006586</td><td>-12.502223</td><td>0.492801</td><td>&quot;file:/share/mi…</td><td>&quot;file:/share/mi…</td><td>&quot;file:/share/mi…</td><td>&quot;file:/share/mi…</td><td>&quot;file:/share/mi…</td><td>2160</td><td>2160</td><td>2160</td><td>2160</td><td>2160</td><td>0</td><td>0</td><td>0</td><td>0</td><td>0</td><td>0</td><td>0</td><td>0</td><td>0</td><td>0</td><td>1008</td><td>&quot;1008_P24_2&quot;</td><td>0</td><td>0</td><td>0</td><td>0</td><td>0</td><td>0</td></tr><tr><td>198495.0</td><td>17118.0</td><td>4.6656e6</td><td>105.0</td><td>3.78</td><td>12.78</td><td>0.0</td><td>12.02</td><td>0.0</td><td>14.28</td><td>0.0</td><td>14.77</td><td>0.0</td><td>13.13</td><td>0.0</td><td>5.43</td><td>0.04</td><td>4.85</td><td>0.01</td><td>0.0</td><td>&quot;PE000053-veroE…</td><td>&quot;PE000053-veroE…</td><td>&quot;PE000053-veroE…</td><td>&quot;PE000053-veroE…</td><td>&quot;PE000053-veroE…</td><td>0</td><td>1</td><td>1</td><td>2160</td><td>2160</td><td>2160</td><td>2160</td><td>2160</td><td>1</td><td>0.618074</td><td>0.304192</td><td>0.001834</td><td>&hellip;</td><td>0.00143</td><td>554.710815</td><td>650.802856</td><td>0.0</td><td>0.013414</td><td>0.018452</td><td>0.004953</td><td>-12.503117</td><td>0.475085</td><td>&quot;file:/share/mi…</td><td>&quot;file:/share/mi…</td><td>&quot;file:/share/mi…</td><td>&quot;file:/share/mi…</td><td>&quot;file:/share/mi…</td><td>2160</td><td>2160</td><td>2160</td><td>2160</td><td>2160</td><td>0</td><td>0</td><td>1</td><td>0</td><td>0</td><td>0</td><td>0</td><td>0</td><td>1</td><td>0</td><td>1008</td><td>&quot;1008_P24_3&quot;</td><td>0</td><td>0</td><td>0</td><td>0</td><td>0</td><td>0</td></tr><tr><td>490380.0</td><td>40894.0</td><td>4.6656e6</td><td>239.0</td><td>3.54</td><td>15.71</td><td>0.0</td><td>14.23</td><td>0.0</td><td>16.15</td><td>0.0</td><td>19.889999</td><td>0.01</td><td>21.41</td><td>0.0</td><td>10.08</td><td>0.14</td><td>10.0</td><td>0.0</td><td>0.0</td><td>&quot;PE000053-veroE…</td><td>&quot;PE000053-veroE…</td><td>&quot;PE000053-veroE…</td><td>&quot;PE000053-veroE…</td><td>&quot;PE000053-veroE…</td><td>0</td><td>1</td><td>1</td><td>2160</td><td>2160</td><td>2160</td><td>2160</td><td>2160</td><td>1</td><td>0.627466</td><td>0.300366</td><td>0.007993</td><td>&hellip;</td><td>0.001489</td><td>583.510254</td><td>560.641602</td><td>0.0</td><td>0.012114</td><td>0.015346</td><td>0.007316</td><td>-12.482114</td><td>0.509179</td><td>&quot;file:/share/mi…</td><td>&quot;file:/share/mi…</td><td>&quot;file:/share/mi…</td><td>&quot;file:/share/mi…</td><td>&quot;file:/share/mi…</td><td>2160</td><td>2160</td><td>2160</td><td>2160</td><td>2160</td><td>0</td><td>0</td><td>1</td><td>0</td><td>0</td><td>0</td><td>0</td><td>0</td><td>1</td><td>0</td><td>1008</td><td>&quot;1008_P24_4&quot;</td><td>0</td><td>0</td><td>0</td><td>0</td><td>0</td><td>0</td></tr></tbody></table></div>"
      ],
      "text/plain": [
       "shape: (7_680, 595)\n",
       "┌────────────┬────────────┬────────────┬────────────┬───┬────────────┬────────────┬────────────┬────────────┐\n",
       "│ AreaOccupi ┆ AreaOccupi ┆ AreaOccupi ┆ Count_nucl ┆ … ┆ OutlierIQR ┆ OutlierIQR ┆ OutlierIQR ┆ outlier_fl │\n",
       "│ ed_AreaOcc ┆ ed_Perimet ┆ ed_TotalAr ┆ ei         ┆   ┆ _MeanInten ┆ _PowerLogL ┆ _StdIntens ┆ ag         │\n",
       "│ upied_nucl ┆ er_nuclei  ┆ ea_nuclei  ┆ ---        ┆   ┆ sity_-3.3_ ┆ ogSlope_-3 ┆ ity_-3.51_ ┆ ---        │\n",
       "│ ei         ┆ ---        ┆ ---        ┆ f32        ┆   ┆ 3.…        ┆ .5…        ┆ 3.…        ┆ i64        │\n",
       "│ ---        ┆ f32        ┆ f32        ┆            ┆   ┆ ---        ┆ ---        ┆ ---        ┆            │\n",
       "│ f32        ┆            ┆            ┆            ┆   ┆ i64        ┆ i64        ┆ i64        ┆            │\n",
       "╞════════════╪════════════╪════════════╪════════════╪═══╪════════════╪════════════╪════════════╪════════════╡\n",
       "│ 343016.0   ┆ 30603.0    ┆ 4.6656e6   ┆ 184.0      ┆ … ┆ 0          ┆ 0          ┆ 0          ┆ 0          │\n",
       "│ 295356.0   ┆ 25824.0    ┆ 4.6656e6   ┆ 156.0      ┆ … ┆ 0          ┆ 0          ┆ 0          ┆ 0          │\n",
       "│ 256101.0   ┆ 22426.0    ┆ 4.6656e6   ┆ 135.0      ┆ … ┆ 0          ┆ 0          ┆ 0          ┆ 0          │\n",
       "│ 256549.0   ┆ 23495.0    ┆ 4.6656e6   ┆ 148.0      ┆ … ┆ 0          ┆ 0          ┆ 0          ┆ 0          │\n",
       "│ …          ┆ …          ┆ …          ┆ …          ┆ … ┆ …          ┆ …          ┆ …          ┆ …          │\n",
       "│ 435437.0   ┆ 36367.0    ┆ 4.6656e6   ┆ 216.0      ┆ … ┆ 0          ┆ 0          ┆ 0          ┆ 0          │\n",
       "│ 424521.0   ┆ 34597.0    ┆ 4.6656e6   ┆ 199.0      ┆ … ┆ 0          ┆ 0          ┆ 0          ┆ 0          │\n",
       "│ 198495.0   ┆ 17118.0    ┆ 4.6656e6   ┆ 105.0      ┆ … ┆ 0          ┆ 0          ┆ 0          ┆ 0          │\n",
       "│ 490380.0   ┆ 40894.0    ┆ 4.6656e6   ┆ 239.0      ┆ … ┆ 0          ┆ 0          ┆ 0          ┆ 0          │\n",
       "└────────────┴────────────┴────────────┴────────────┴───┴────────────┴────────────┴────────────┴────────────┘"
      ]
     },
     "execution_count": 18,
     "metadata": {},
     "output_type": "execute_result"
    }
   ],
   "source": [
    "from pharmbio.qc import flag_outliers\n",
    "\n",
    "print(flag_outliers(sarscov2.qc_data, method='IQR', IQR_normalization=True, quantile_limit=0.2).select([\"outlier_flag\"]).sum())\n",
    "flag_outliers(sarscov2.qc_data, method='IQR', IQR_normalization=True, quantile_limit=0.2)"
   ]
  }
 ],
 "metadata": {
  "kernelspec": {
   "display_name": ".venv",
   "language": "python",
   "name": "python3"
  },
  "language_info": {
   "codemirror_mode": {
    "name": "ipython",
    "version": 3
   },
   "file_extension": ".py",
   "mimetype": "text/x-python",
   "name": "python",
   "nbconvert_exporter": "python",
   "pygments_lexer": "ipython3",
   "version": "3.8.10"
  },
  "orig_nbformat": 4
 },
 "nbformat": 4,
 "nbformat_minor": 2
}
